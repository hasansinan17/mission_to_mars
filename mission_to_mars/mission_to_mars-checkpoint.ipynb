{
 "cells": [
  {
   "cell_type": "code",
   "execution_count": 1,
   "metadata": {},
   "outputs": [],
   "source": [
    "# Import BeautifulSoup\n",
    "from bs4 import BeautifulSoup\n",
    "import time\n",
    "import requests\n",
    "import pandas as pd"
   ]
  },
  {
   "cell_type": "code",
   "execution_count": 2,
   "metadata": {},
   "outputs": [],
   "source": [
    "# Import Splinter and set the chromedriver path\n",
    "from splinter import Browser\n",
    "executable_path = {'executable_path':'C://Users//sinan//Downloads//chromedriver_win32//chromedriver.exe'}\n",
    "Browser = Browser('chrome', **executable_path, headless=False)\n"
   ]
  },
  {
   "cell_type": "code",
   "execution_count": 3,
   "metadata": {},
   "outputs": [],
   "source": [
    "# Visit the following URL\n",
    "url = \"https://mars.nasa.gov/news/\"\n",
    "Browser.visit(url)"
   ]
  },
  {
   "cell_type": "code",
   "execution_count": 4,
   "metadata": {},
   "outputs": [
    {
     "name": "stdout",
     "output_type": "stream",
     "text": [
      "Asteroids, Hydrogen Make Great Recipe for Life on Mars\n",
      "Laser blasts in lab tests suggest asteroid bombardment could have provided key ingredients for life on ancient Mars.\n"
     ]
    }
   ],
   "source": [
    "html = Browser.html\n",
    "soup = BeautifulSoup(html, 'html.parser')\n",
    "\n",
    "latest = soup.find('ul', class_='item_list')\n",
    "\n",
    "latest_hl = latest.find('li')\n",
    "\n",
    "news_title = latest_hl.find('div',class_='content_title').text\n",
    "\n",
    "news_p =  latest_hl.find('div',class_='article_teaser_body').text\n",
    "\n",
    "print(news_title)\n",
    "print(news_p)"
   ]
  },
  {
   "cell_type": "code",
   "execution_count": 5,
   "metadata": {},
   "outputs": [],
   "source": [
    "    # Visit the following URL\n",
    "url = \"https://www.jpl.nasa.gov/spaceimages/?search=&category=Mars\"\n",
    "#executable_path = {'executable_path': 'chromedriver.exe'}\n",
    "#browser = Browser('chrome', **executable_path, headless=False)\n",
    "Browser.visit(url)"
   ]
  },
  {
   "cell_type": "code",
   "execution_count": 6,
   "metadata": {},
   "outputs": [
    {
     "name": "stdout",
     "output_type": "stream",
     "text": [
      "https://www.jpl.nasa.gov/spaceimages/images/largesize/PIA19913_hires.jpg\n"
     ]
    }
   ],
   "source": [
    "time.sleep(5)\n",
    "Browser.click_link_by_partial_text('FULL IMAGE')\n",
    "\n",
    "time.sleep(5)\n",
    "Browser.click_link_by_partial_text('more info')\n",
    "\n",
    "html = Browser.html\n",
    "soup = BeautifulSoup(html, 'html.parser')\n",
    "\n",
    "#find full resulution image\n",
    "#results = soup.find_all('div', class_='download_tiff')\n",
    "#for result in results:\n",
    "#    image_data = result.find('p')\n",
    "#    if image_data.text.find('Full-Res JPG'):\n",
    "#        fullres_data = image_data.find('a')\n",
    "#        fullres_image_url = \"https:\" +  fullres_data['href']\n",
    "#        print(fullres_image_url)\n",
    "\n",
    "#find full image url\n",
    "results = soup.find('article')\n",
    "url_path = results.find('figure', 'lede').a['href']\n",
    "url_link = \"https://www.jpl.nasa.gov\"\n",
    "featured_image_url = url_link + url_path\n",
    "print(featured_image_url)"
   ]
  },
  {
   "cell_type": "code",
   "execution_count": 7,
   "metadata": {},
   "outputs": [
    {
     "data": {
      "text/plain": [
       "'InSight sol 114 (2019-03-23) low -96.8ºC (-142.2ºF) high -15.5ºC (4.1ºF) pressure at 7.30 hPapic.twitter.com/pZKYYDzZST'"
      ]
     },
     "execution_count": 7,
     "metadata": {},
     "output_type": "execute_result"
    }
   ],
   "source": [
    "#### Mars Weather\n",
    "url = 'https://twitter.com/marswxreport?lang=en'\n",
    "#executable_path = {'executable_path': 'chromedriver.exe'}\n",
    "#Browser = Browser('chrome', **executable_path, headless=False)\n",
    "Browser.visit(url)  \n",
    "html = Browser.html\n",
    "soup = BeautifulSoup(html, 'html.parser')\n",
    "latest_tweet = soup.find('div', class_='js-tweet-text-container')\n",
    "mars_weather = latest_tweet.find('p').text\n",
    "mars_weather = mars_weather.replace ( \"\\n\" , ' ')\n",
    "mars_weather"
   ]
  },
  {
   "cell_type": "code",
   "execution_count": 8,
   "metadata": {},
   "outputs": [
    {
     "data": {
      "text/plain": [
       "[                      0                              1\n",
       " 0  Equatorial Diameter:                       6,792 km\n",
       " 1       Polar Diameter:                       6,752 km\n",
       " 2                 Mass:  6.42 x 10^23 kg (10.7% Earth)\n",
       " 3                Moons:            2 (Phobos & Deimos)\n",
       " 4       Orbit Distance:       227,943,824 km (1.52 AU)\n",
       " 5         Orbit Period:           687 days (1.9 years)\n",
       " 6  Surface Temperature:                  -153 to 20 °C\n",
       " 7         First Record:              2nd millennium BC\n",
       " 8          Recorded By:           Egyptian astronomers]"
      ]
     },
     "execution_count": 8,
     "metadata": {},
     "output_type": "execute_result"
    }
   ],
   "source": [
    "### Mars Facts\n",
    "url = 'https://space-facts.com/mars/'\n",
    "tables = pd.read_html(url)\n",
    "tables\n"
   ]
  },
  {
   "cell_type": "code",
   "execution_count": 9,
   "metadata": {},
   "outputs": [
    {
     "name": "stdout",
     "output_type": "stream",
     "text": [
      "                                              Value\n",
      "Description                                        \n",
      "Equatorial Diameter:                       6,792 km\n",
      "Polar Diameter:                            6,752 km\n",
      "Mass:                 6.42 x 10^23 kg (10.7% Earth)\n",
      "Moons:                          2 (Phobos & Deimos)\n",
      "Orbit Distance:            227,943,824 km (1.52 AU)\n"
     ]
    },
    {
     "data": {
      "text/plain": [
       "'<table border=\"1\" class=\"dataframe\">  <thead>    <tr style=\"text-align: right;\">      <th></th>      <th>Value</th>    </tr>    <tr>      <th>Description</th>      <th></th>    </tr>  </thead>  <tbody>    <tr>      <th>Equatorial Diameter:</th>      <td>6,792 km</td>    </tr>    <tr>      <th>Polar Diameter:</th>      <td>6,752 km</td>    </tr>    <tr>      <th>Mass:</th>      <td>6.42 x 10^23 kg (10.7% Earth)</td>    </tr>    <tr>      <th>Moons:</th>      <td>2 (Phobos &amp; Deimos)</td>    </tr>    <tr>      <th>Orbit Distance:</th>      <td>227,943,824 km (1.52 AU)</td>    </tr>    <tr>      <th>Orbit Period:</th>      <td>687 days (1.9 years)</td>    </tr>    <tr>      <th>Surface Temperature:</th>      <td>-153 to 20 °C</td>    </tr>    <tr>      <th>First Record:</th>      <td>2nd millennium BC</td>    </tr>    <tr>      <th>Recorded By:</th>      <td>Egyptian astronomers</td>    </tr>  </tbody></table>'"
      ]
     },
     "execution_count": 9,
     "metadata": {},
     "output_type": "execute_result"
    }
   ],
   "source": [
    "df = tables[0]\n",
    "df.columns = [\"Description\", \"Value\"]\n",
    "df.set_index('Description', inplace=True)\n",
    "print(df.head())\n",
    "html_table = df.to_html()\n",
    "remove_nl = html_table.replace('\\n' , '')\n",
    "remove_nl \n",
    "\n",
    "\n",
    "\n"
   ]
  },
  {
   "cell_type": "code",
   "execution_count": 10,
   "metadata": {},
   "outputs": [],
   "source": [
    "### Mars Hemispheres\n",
    "mars_image_urls = []\n",
    "url = \"https://astrogeology.usgs.gov/search/results?q=hemisphere+enhanced&k1=target&v1=Mars\"\n",
    "Browser.visit(url)"
   ]
  },
  {
   "cell_type": "code",
   "execution_count": 11,
   "metadata": {},
   "outputs": [],
   "source": [
    "#cerberus hemisphere\n",
    "Browser.click_link_by_partial_text('Cerberus Hemisphere')\n",
    "html = Browser.html\n",
    "soup = BeautifulSoup(html, 'html.parser')\n",
    "download_link = soup.find('div', class_='downloads').a['href']\n",
    "cerberus = {\n",
    "    \"title\": \"Cerberus Hemisphere\",\n",
    "    \"img_url\": download_link\n",
    "}\n",
    "\n",
    "mars_image_urls.append(cerberus)"
   ]
  },
  {
   "cell_type": "code",
   "execution_count": 12,
   "metadata": {},
   "outputs": [],
   "source": [
    "Browser.click_link_by_partial_text('Back')\n"
   ]
  },
  {
   "cell_type": "code",
   "execution_count": 13,
   "metadata": {},
   "outputs": [],
   "source": [
    "Browser.click_link_by_partial_text('Schiaparelli Hemisphere')\n",
    "html = Browser.html\n",
    "soup = BeautifulSoup(html, 'html.parser')\n",
    "download_link = soup.find('div', class_='downloads').a['href']\n",
    "Schiaparelli = {\n",
    "    \"title\": \"Schiaparelli Hemisphere\",\n",
    "    \"img_url\": download_link\n",
    "}\n",
    "\n",
    "mars_image_urls.append(Schiaparelli)"
   ]
  },
  {
   "cell_type": "code",
   "execution_count": 14,
   "metadata": {},
   "outputs": [],
   "source": [
    "Browser.click_link_by_partial_text('Back')"
   ]
  },
  {
   "cell_type": "code",
   "execution_count": 15,
   "metadata": {},
   "outputs": [],
   "source": [
    "Browser.click_link_by_partial_text('Syrtis Major Hemisphere')\n",
    "html = Browser.html\n",
    "soup = BeautifulSoup(html, 'html.parser')\n",
    "download_link = soup.find('div', class_='downloads').a['href']\n",
    "Syrtis = {\n",
    "    \"title\": \"Syrtis Major Hemisphere\",\n",
    "    \"img_url\": download_link\n",
    "}\n",
    "\n",
    "mars_image_urls.append(Syrtis)"
   ]
  },
  {
   "cell_type": "code",
   "execution_count": 16,
   "metadata": {},
   "outputs": [],
   "source": [
    "Browser.click_link_by_partial_text('Back')"
   ]
  },
  {
   "cell_type": "code",
   "execution_count": 17,
   "metadata": {},
   "outputs": [],
   "source": [
    "Browser.click_link_by_partial_text('Valles Marineris Hemisphere')\n",
    "html = Browser.html\n",
    "soup = BeautifulSoup(html, 'html.parser')\n",
    "download_link = soup.find('div', class_='downloads').a['href']\n",
    "Valles = {\n",
    "    \"title\": \"Valles Marineris Hemisphere\",\n",
    "    \"img_url\": download_link\n",
    "}\n",
    "\n",
    "mars_image_urls.append(Valles)"
   ]
  },
  {
   "cell_type": "code",
   "execution_count": 18,
   "metadata": {},
   "outputs": [
    {
     "data": {
      "text/plain": [
       "[{'title': 'Cerberus Hemisphere',\n",
       "  'img_url': 'http://astropedia.astrogeology.usgs.gov/download/Mars/Viking/cerberus_enhanced.tif/full.jpg'},\n",
       " {'title': 'Schiaparelli Hemisphere',\n",
       "  'img_url': 'http://astropedia.astrogeology.usgs.gov/download/Mars/Viking/schiaparelli_enhanced.tif/full.jpg'},\n",
       " {'title': 'Syrtis Major Hemisphere',\n",
       "  'img_url': 'http://astropedia.astrogeology.usgs.gov/download/Mars/Viking/syrtis_major_enhanced.tif/full.jpg'},\n",
       " {'title': 'Valles Marineris Hemisphere',\n",
       "  'img_url': 'http://astropedia.astrogeology.usgs.gov/download/Mars/Viking/valles_marineris_enhanced.tif/full.jpg'}]"
      ]
     },
     "execution_count": 18,
     "metadata": {},
     "output_type": "execute_result"
    }
   ],
   "source": [
    "mars_image_urls"
   ]
  },
  {
   "cell_type": "code",
   "execution_count": 19,
   "metadata": {},
   "outputs": [],
   "source": [
    "Browser.quit()"
   ]
  },
  {
   "cell_type": "code",
   "execution_count": null,
   "metadata": {},
   "outputs": [],
   "source": []
  }
 ],
 "metadata": {
  "kernelspec": {
   "display_name": "Python 3",
   "language": "python",
   "name": "python3"
  },
  "language_info": {
   "codemirror_mode": {
    "name": "ipython",
    "version": 3
   },
   "file_extension": ".py",
   "mimetype": "text/x-python",
   "name": "python",
   "nbconvert_exporter": "python",
   "pygments_lexer": "ipython3",
   "version": "3.7.0"
  },
  "varInspector": {
   "cols": {
    "lenName": 16,
    "lenType": 16,
    "lenVar": 40
   },
   "kernels_config": {
    "python": {
     "delete_cmd_postfix": "",
     "delete_cmd_prefix": "del ",
     "library": "var_list.py",
     "varRefreshCmd": "print(var_dic_list())"
    },
    "r": {
     "delete_cmd_postfix": ") ",
     "delete_cmd_prefix": "rm(",
     "library": "var_list.r",
     "varRefreshCmd": "cat(var_dic_list()) "
    }
   },
   "types_to_exclude": [
    "module",
    "function",
    "builtin_function_or_method",
    "instance",
    "_Feature"
   ],
   "window_display": false
  }
 },
 "nbformat": 4,
 "nbformat_minor": 2
}
